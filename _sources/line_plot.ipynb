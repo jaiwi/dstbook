{
 "cells": [
  {
   "cell_type": "markdown",
   "metadata": {},
   "source": [
    "# Liniendiagramm"
   ]
  },
  {
   "cell_type": "markdown",
   "metadata": {},
   "source": [
    "Um das Generieren mehrerer Liniendiagramme zu vereinfachen, enthält ```mapping.py``` zwei Dictionaries mit jeweils einem Eintrag per Diagramm: ```data``` verfügt über die Daten für die allgemeinen Textelemente und den anzuzeigenden Zeitraum. In ```display``` sind für jede Linie Farben und Stärke festgelegt sowie individuelle Annotationen hinterlegt."
   ]
  },
  {
   "cell_type": "markdown",
   "metadata": {},
   "source": [
    "### ```mapping.py``` am Beispiel *Bundeskanzler (Deutschland)*"
   ]
  },
  {
   "cell_type": "markdown",
   "metadata": {},
   "source": [
    "```python\n",
    "sourcetext = \"Video- und Artikelabrufstatistiken via <a href='https://pageviews.toolforge.org'>pageviews.toolforge.org</a> |\"\n",
    "\n",
    "data = {\n",
    "    \"bu\": {\n",
    "        \"media\": True,\n",
    "        \"DE\": \"Bundeskanzler (Deutschland)\",\n",
    "        \"title\": \"Thema: Bundeskanzler*in\",\n",
    "        \"description\": \"<a href='https://commons.wikimedia.org/wiki/File:Was_macht_ein*e_Bundeskanzler*in%3F.webm' style='color:#A2A9B1'>Zum Video</a> | Was macht ein*e Bundeskanzler*in?\",\n",
    "        \"startdate\": \"2021-08-15\",\n",
    "        \"stopdate\": \"2021-12-31\",\n",
    "        \"sourcetext\": sourcetext,\n",
    "    },  \n",
    "}\n",
    "\n",
    "display = {\n",
    "    \"br\": {\n",
    "        \"DE\" : {\n",
    "            \"show\": True,\n",
    "            \"color\": color.ACCENT50,\n",
    "            \"width\": color.ARTICLE_TRACE_WIDTH,\n",
    "            \"rank\": 1,\n",
    "        },\n",
    "        \"annotations\": [\n",
    "            {\n",
    "                \"x\": \"2021-09-25\",\n",
    "                \"y\": 4500,\n",
    "                \"xanchor\": \"right\",\n",
    "                \"text\": \"Bundestagswahl\",\n",
    "                \"font\": {\"size\": 18},\n",
    "                \"showarrow\": False,\n",
    "            },\n",
    "        ],  \n",
    "}\n",
    "```"
   ]
  },
  {
   "cell_type": "markdown",
   "metadata": {},
   "source": [
    "### ```terrax.ipynb```"
   ]
  },
  {
   "cell_type": "markdown",
   "metadata": {},
   "source": [
    "#### Daten"
   ]
  },
  {
   "cell_type": "markdown",
   "metadata": {},
   "source": [
    "```python\n",
    "import pandas as pd\n",
    "import plotly.graph_objs as go\n",
    "\n",
    "import color\n",
    "import mapping\n",
    "\n",
    "# Variablen\n",
    "ABB = \"btw21-0810\"  # br, btw21-0810, bu, ca, ka,\n",
    "MEDIA_TOGGLE = mapping.data[ABB][\"media\"]\n",
    "\n",
    "# Einlesen\n",
    "rawdf = pd.read_csv(f\"../data/{ABB}.csv\", parse_dates=[\"Date\"])\n",
    "\n",
    "# Zeitfenster\n",
    "timedf = rawdf[(rawdf[\"Date\"] >= mapping.data[ABB][\"startdate\"]) & (rawdf[\"Date\"] <= mapping.data[ABB][\"stopdate\"])]\n",
    "\n",
    "# Medienaufrufe\n",
    "if MEDIA_TOGGLE:\n",
    "    articledf = df.drop(columns={\"Media\"})\n",
    "else:\n",
    "    articledf = df\n",
    "articledf_columns = list(articledf.columns)\n",
    "articledf_columns.pop(0)\n",
    "```"
   ]
  },
  {
   "cell_type": "markdown",
   "metadata": {},
   "source": [
    "Die Datumsangaben werden als ```datetime```-Objekte gespeichert, um später unter anderem die Ausgabe von Monatsnamen anstatt von Zahlen zu ermöglichen. Leider ist dies nur auf Englisch möglich, da eine potentielle Lösung für deutsche Bezeichnungen unter Zuhilfenahme des ```locale```-Moduls die Datumsangaben als String ausgibt.\n",
    "\n",
    "```python\n",
    "locale.setlocale(locale.LC_TIME, \"de_DE\")\n",
    "date_series = timedf[\"Date\"]\n",
    "date_series = [item.strftime(\"%d %B %Y\") for item in date_series]\n",
    "timedf[\"Date\"] = date_series\n",
    "```"
   ]
  },
  {
   "cell_type": "markdown",
   "metadata": {},
   "source": [
    "#### Layout"
   ]
  },
  {
   "cell_type": "markdown",
   "metadata": {},
   "source": [
    "```python\n",
    "layout = go.Layout(\n",
    "    plot_bgcolor=color.PLOT_BGCOLOR,\n",
    "    paper_bgcolor=color.PAPER_BGCOLOR,\n",
    "    showlegend=True,\n",
    "    xaxis={\n",
    "        \"showgrid\": False,\n",
    "        \"showline\": False,\n",
    "        \"linecolor\": color.AXIS_COLOR,\n",
    "        \"ticklabelmode\": \"instant\",\n",
    "        \"tickformatstops\": [\n",
    "            {\"dtickrange\": [None, 604800000], \"value\": \"%e. %B\"},\n",
    "            {\"dtickrange\": [604800000, \"M1\"], \"value\": \"%e. %B\"},\n",
    "            {\"dtickrange\": [\"M1\", \"M12\"], \"value\": \"%B\"}\n",
    "            ]\n",
    "        },\n",
    "    yaxis={\n",
    "        \"showgrid\": True,\n",
    "        \"showline\": True,\n",
    "        \"gridcolor\": color.GRID_COLOR,\n",
    "        \"linecolor\": color.AXIS_COLOR,\n",
    "        \"zeroline\": True,\n",
    "        \"zerolinecolor\": color.AXIS_COLOR,\n",
    "        \"zerolinewidth\": 1,\n",
    "        \"fixedrange\": True\n",
    "        },\n",
    "    hovermode=\"x unified\",\n",
    "    font={\"family\": color.PRIMARY_FONT, \"color\": color.AXIS_COLOR},\n",
    "    width=1366,\n",
    "    height=768,\n",
    "    legend={\n",
    "        \"x\": 0,\n",
    "        \"y\": 1,\n",
    "        \"xanchor\": \"left\",\n",
    "        \"yanchor\": \"bottom\",\n",
    "        \"orientation\": \"h\",\n",
    "    }\n",
    ")\n",
    "```"
   ]
  },
  {
   "cell_type": "markdown",
   "metadata": {},
   "source": [
    "Die Angaben in ```tickfromatstops``` passen je nach angezeigtem Diagrammausschnitt die Anzahl und Formattierung der Ticks der X-Achse an.\n",
    "\n",
    "Das Seitenverhältnis ist mit 16:9 fest vorgegeben. Dies ermöglicht die unkomplizierte Integration von Annotationen, welche bei einem abweichenden Seitenverhältnis verschoben würden. Da die Diagramme grundsätzlich als SVG-Dateien ausgegeben werden können, ist die Festlegung einer spezifischen Auflösung unkompliziert.\n",
    "\n",
    "```fixedrange=True``` behält bei der Auswahl eines Diagrammausschnitts die Diemensionen der Y-Achse bei.\n",
    "\n",
    "```hovermode=\"x unified\"``` blendet beim Schweben über das Diagramm eine vertikale Linie sowie eine Anzeige der Y-Koordinaten der einzelnen Linien ein."
   ]
  },
  {
   "cell_type": "markdown",
   "metadata": {},
   "source": [
    "#### Diagramm"
   ]
  },
  {
   "cell_type": "markdown",
   "metadata": {},
   "source": [
    "```python\n",
    "line = go.Figure(layout=layout)\n",
    "\n",
    "if MEDIA_TOGGLE:\n",
    "    line.add_trace(\n",
    "        go.Scatter(\n",
    "            mode=\"lines\",\n",
    "            x=df[\"Date\"],\n",
    "            y=df[\"Media\"],\n",
    "            name=\"Video\",\n",
    "            legendrank=1,\n",
    "            legendgroup=\"Video\",\n",
    "            line={\"color\": color.MEDIA_COLOR, \"shape\": \"spline\", \"smoothing\": 0.75, \"width\": color.MEDIA_TRACE_WIDTH}\n",
    "        )\n",
    "    )\n",
    "\n",
    "for acount, article in enumerate(articledf_columns):\n",
    "    if mapping.display[ABB][article][\"show\"]:\n",
    "        line.add_trace(\n",
    "            go.Scatter(\n",
    "                mode=\"lines\",\n",
    "                x=df[\"Date\"],\n",
    "                y=df[article],\n",
    "                name=mapping.data[ABB][article],\n",
    "                legendrank=mapping.display[ABB][article][\"rank\"]+1,\n",
    "                legendgroup=article,\n",
    "                line={\"color\": mapping.display[ABB][article][\"color\"], \"shape\": \"spline\", \"smoothing\": 0.75, \"width\": mapping.display[ABB][article][\"width\"],}\n",
    "            )\n",
    "        )\n",
    "```"
   ]
  },
  {
   "cell_type": "markdown",
   "metadata": {},
   "source": [
    "Jede Linie wird in ihre eigene ```legendgroup``` eingebunden, da Plotly nicht die horizontale Anordnung deren einzelner Elemente unterstützt."
   ]
  },
  {
   "cell_type": "markdown",
   "metadata": {},
   "source": [
    "#### Textelemente"
   ]
  },
  {
   "cell_type": "markdown",
   "metadata": {},
   "source": [
    "```python\n",
    "line.layout.annotations = [\n",
    "    go.layout.Annotation(\n",
    "        x=0, y=1.1, xref=\"paper\", yref=\"paper\", xanchor=\"left\", yanchor=\"bottom\", showarrow=False,\n",
    "        font={\"size\": 36, \"color\": color.PRIMARY_FONT_COLOR, \"family\": color.PRIMARY_FONT},\n",
    "        text=mapping.data[ABB][\"title\"],\n",
    "    ),\n",
    "    go.layout.Annotation(\n",
    "        x=0, y=1.05, xref=\"paper\", yref=\"paper\", xanchor=\"left\", yanchor=\"bottom\", showarrow=False,\n",
    "        font={\"size\": 18, \"color\": color.SECONDARY_FONT_COLOR, \"family\": color.SECONDARY_FONT},\n",
    "        text=mapping.data[ABB][\"description\"],\n",
    "    ),\n",
    "    go.layout.Annotation(\n",
    "        x=1, y=-0.1, xref=\"paper\", yref=\"paper\", xanchor=\"right\", yanchor=\"bottom\", showarrow=False,\n",
    "        font={\"size\": 12, \"color\": color.SECONDARY_FONT_COLOR, \"family\": color.PRIMARY_FONT},\n",
    "        text=mapping.data[ABB][\"sourcetext\"],\n",
    "    ),\n",
    "]\n",
    "```"
   ]
  },
  {
   "cell_type": "markdown",
   "metadata": {},
   "source": [
    "#### Diagrammspezifische Annotationen\n",
    "\n",
    "Properties für ```go.Figure.add_vline()``` müssen leider im Skript hinterlegt werden, da die Auslagerung von ```x``` nach ```mapping.py``` Schwierigkeiten bereitet."
   ]
  },
  {
   "cell_type": "markdown",
   "metadata": {},
   "source": [
    "```python\n",
    "for anno in mapping.display[ABB][\"annotations\"]:\n",
    "    line.add_annotation(anno)\n",
    "if ABB in [\"br\", \"btw21-0810\", \"bu\"]:\n",
    "    line.add_vline(\n",
    "        x=\"2021-09-26\",\n",
    "        line_width=1,\n",
    "        line_dash=\"dash\",\n",
    "        line_color=color.AXIS_COLOR,\n",
    "    )\n",
    "if ABB == \"bu\":\n",
    "    line.add_vline(\n",
    "        x=\"2021-12-08\",\n",
    "        line_width=1,\n",
    "        line_dash=\"dash\",\n",
    "        line_color=color.AXIS_COLOR,\n",
    "    )\n",
    "```"
   ]
  },
  {
   "cell_type": "markdown",
   "metadata": {},
   "source": [
    "Ausgabe des Diagramms als SVG-Datei. Für den Export statistischer Bilder wurde zusätzlich `kaleido` installiert.\n",
    "\n",
    "```python\n",
    "line.write_image(\"../export/line_btw21-0810.svg\")\n",
    "```"
   ]
  },
  {
   "cell_type": "markdown",
   "metadata": {},
   "source": [
    "![Liniendiagramm Bundestagswahl 2021](assets/images/line_btw21-0810.svg)"
   ]
  }
 ],
 "metadata": {
  "language_info": {
   "name": "python"
  },
  "orig_nbformat": 4
 },
 "nbformat": 4,
 "nbformat_minor": 2
}
