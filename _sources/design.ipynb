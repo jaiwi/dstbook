{
 "cells": [
  {
   "cell_type": "markdown",
   "metadata": {},
   "source": [
    "# Design"
   ]
  },
  {
   "cell_type": "markdown",
   "metadata": {},
   "source": [
    "Das Design der Diagramme greif auf den [Wikimedia Style Guide](https://design.wikimedia.org/style-guide/index.html) zurück.\n",
    "\n",
    "Für den Text kommen die Fonts Lato und Charter/Charis SIL zum Einsatz. Die in *Base colors*, *Accent colors* und *Utility colors* gruppierten Farben sind in Hinblick auf Kontrast und Farbharmonie abgestimmt.\n",
    "\n",
    "Hätte sich dennoch ein Grund für das Austauschen von Fonts oder Farben ergeben, so wäre dies unkompliziert über das Ändern einzelner Code-Zeilen in der Datei ```color.py``` möglich, welche von den einzelnen Diagrammen referenziert wird. Auch einige weitere Eigenschaften wie Schriftgröße oder Linienstärke können dort eingestellt werden."
   ]
  },
  {
   "cell_type": "markdown",
   "metadata": {},
   "source": [
    "### ```color.py```"
   ]
  },
  {
   "cell_type": "markdown",
   "metadata": {},
   "source": [
    "```python\n",
    "BASE50 = \"#A2A9B1\"\n",
    "BASE20 = \"#54595D\"\n",
    "BASE10 = \"#202122\"\n",
    "BASE0 = \"#000000\"\n",
    "\n",
    "ACCENT90 = \"#EAF3FF\"\n",
    "ACCENT50 = \"#3366CC\"\n",
    "ACCENT30 = \"#2A4B8D\"\n",
    "\n",
    "RED90 = \"#FEE7E6\"\n",
    "RED50 = \"#DD3333\"\n",
    "RED30 = \"#B32424\"\n",
    "GREEN90 = \"#D5FDF4\"\n",
    "GREEN50 = \"#00AF89\"\n",
    "GREEN30 = \"#14866D\"\n",
    "YELLOW90 = \"#FEF6E7\"\n",
    "YELLOW50 = \"#FFCC33\"\n",
    "YELLOW30 = \"#AC6600\"\n",
    "\n",
    "# Plot settings\n",
    "PLOT_BGCOLOR = \"rgba(0,0,0,0)\"\n",
    "PAPER_BGCOLOR = \"rgba(0,0,0,0)\"\n",
    "\n",
    "AXIS_COLOR = BASE0\n",
    "GRID_COLOR = BASE50\n",
    "\n",
    "MEDIA_COLOR = RED50\n",
    "COLOR_LIST = [ACCENT50, GREEN50, YELLOW50, ACCENT30, GREEN30, YELLOW30, RED30, \"#FFFFFF\", \"#FFFFFF\", \"#FFFFFF\"]\n",
    "\n",
    "PRIMARY_FONT = \"Lato\"\n",
    "SECONDARY_FONT =\"Lato\"  # \"Charis SIL\"\n",
    "PRIMARY_FONT_COLOR = BASE0\n",
    "SECONDARY_FONT_COLOR = BASE50\n",
    "TITLE_FONT_SIZE = 36\n",
    "DESCRIPTION_FONT_SIZE = 18\n",
    "SOURCETEXT_FONT_SIZE = 12\n",
    "\n",
    "MEDIA_TRACE_WIDTH = 2\n",
    "ARTICLE_TRACE_WIDTH = 1\n",
    "```"
   ]
  },
  {
   "cell_type": "markdown",
   "metadata": {},
   "source": [
    "Generell ist das Design recht filigran ausgeführt und daher eher für Darstellungen auf Bildschirmen bzw. mobilen Endgeräten geeignet. Für eine Präsentation via Beamer bzw. Fernseher in einem Raum wären stärker hervorgehobene Zeichen und Elemente erforderlich."
   ]
  }
 ],
 "metadata": {
  "language_info": {
   "name": "python"
  },
  "orig_nbformat": 4
 },
 "nbformat": 4,
 "nbformat_minor": 2
}
