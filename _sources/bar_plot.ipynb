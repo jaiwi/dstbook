{
 "cells": [
  {
   "cell_type": "markdown",
   "metadata": {},
   "source": [
    "# Balkendiagramm"
   ]
  },
  {
   "cell_type": "markdown",
   "metadata": {},
   "source": [
    "### ```ard_bar.ipynb```"
   ]
  },
  {
   "cell_type": "markdown",
   "metadata": {},
   "source": [
    "```python\n",
    "import pandas as pd\n",
    "import plotly.graph_objs as go\n",
    "\n",
    "import color\n",
    "\n",
    "rawdf = pd.read_csv(\"../data/ard.csv\")\n",
    "df = rawdf[[\"Rank\", \"Page\", \"Views\"]]\n",
    "df[\"Rank\"] = df[\"Rank\"].astype(str)\n",
    "\n",
    "color_list = [color.ACCENT50, color.BASE50, color.BASE50, color.ACCENT50, color.BASE50, color.ACCENT50, color.ACCENT50, color.BASE50, color.BASE50, color.BASE50, color.ACCENT50, color.BASE50]\n",
    "color_list.reverse()\n",
    "\n",
    "layout = go.Layout(\n",
    "    plot_bgcolor=color.PLOT_BGCOLOR,\n",
    "    paper_bgcolor=color.PAPER_BGCOLOR,\n",
    "    showlegend=False,\n",
    "    xaxis={\n",
    "        \"showgrid\": True,\n",
    "        \"showline\": True,\n",
    "        \"gridcolor\": color.GRID_COLOR,\n",
    "        \"linecolor\": color.AXIS_COLOR,\n",
    "        \"fixedrange\": True,\n",
    "    },\n",
    "    yaxis={\n",
    "        \"showgrid\": False,\n",
    "        \"showline\":True,\n",
    "        \"linecolor\": color.AXIS_COLOR,\n",
    "        #\"tickfont\": {\"color\": \"rgba(0,0,0,0)\"},\n",
    "        \"tickfont\": {\"color\": color.PRIMARY_FONT_COLOR, \"family\": color.PRIMARY_FONT, \"size\": 18},\n",
    "        \"fixedrange\": True,\n",
    "\n",
    "    },\n",
    "    font={\"family\": color.PRIMARY_FONT, \"color\": color.AXIS_COLOR},\n",
    "    width=1366,\n",
    "    height=768,    \n",
    ")\n",
    "\n",
    "ard = go.Figure(\n",
    "    go.Bar(\n",
    "        x=df[\"Views\"][::-1],\n",
    "        y=df[\"Rank\"][::-1],\n",
    "        orientation=\"h\",\n",
    "        hoverinfo=\"skip\",\n",
    "        text=df[\"Page\"][::-1],\n",
    "        textposition=\"inside\",\n",
    "        textfont={\"color\": color.PRIMARY_FONT_COLOR, \"family\": color.PRIMARY_FONT, \"size\": 18},\n",
    "        marker_color=color_list,\n",
    "        \n",
    "    ),\n",
    "    layout=layout\n",
    ")\n",
    "\n",
    "ard.layout.annotations = [\n",
    "    go.layout.Annotation(\n",
    "        x=0, y=1.1, xref=\"paper\", yref=\"paper\", xanchor=\"left\", yanchor=\"bottom\", showarrow=False,\n",
    "        font={\"size\": 36, \"color\": color.PRIMARY_FONT_COLOR, \"family\": color.PRIMARY_FONT},\n",
    "        text=\"Top 500 der meistbesuchten Artikel in 2021\",\n",
    "    ),\n",
    "    go.layout.Annotation(\n",
    "        x=0, y=1.05, xref=\"paper\", yref=\"paper\", xanchor=\"left\", yanchor=\"bottom\", showarrow=False,\n",
    "        font={\"size\": 18, \"color\": color.SECONDARY_FONT_COLOR, \"family\": color.SECONDARY_FONT},\n",
    "        text=f\"<span style='color:{color.ACCENT50}'>Formate</span>, Rundfunkanstalten und Persönlichkeiten\",\n",
    "    ),\n",
    "    go.layout.Annotation(\n",
    "        x=1, y=-0.1, xref=\"paper\", yref=\"paper\", xanchor=\"right\", yanchor=\"bottom\", showarrow=False,\n",
    "        font={\"size\": 12, \"color\": color.SECONDARY_FONT_COLOR, \"family\": color.PRIMARY_FONT},\n",
    "        text=\"Artikelabrufstatistiken via <a href='https://pageviews.toolforge.org'>pageviews.toolforge.org</a> |\",\n",
    "    ),\n",
    "]\n",
    "```"
   ]
  },
  {
   "cell_type": "markdown",
   "metadata": {},
   "source": [
    "![Diagramm Top 500](assets/images/ard_bar.svg)"
   ]
  }
 ],
 "metadata": {
  "language_info": {
   "name": "python"
  },
  "orig_nbformat": 4
 },
 "nbformat": 4,
 "nbformat_minor": 2
}
