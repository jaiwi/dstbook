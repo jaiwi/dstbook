{
 "cells": [
  {
   "cell_type": "markdown",
   "metadata": {},
   "source": [
    "# Tortendiagramm"
   ]
  },
  {
   "cell_type": "markdown",
   "metadata": {},
   "source": [
    "### ```conv_pie.ipynb```"
   ]
  },
  {
   "cell_type": "markdown",
   "metadata": {},
   "source": [
    "```python\n",
    "import plotly.graph_objs as go\n",
    "import color\n",
    "\n",
    "layout = go.Layout(\n",
    "    plot_bgcolor=\"rgba(0,0,0,0)\",\n",
    "    paper_bgcolor=\"rgba(0,0,0,0)\",\n",
    "    showlegend=False,\n",
    "    font={\"family\": \"Lato\", \"color\": \"#000000\"},\n",
    "    width=1366,\n",
    "    height=768,\n",
    ")\n",
    "\n",
    "donut = go.Figure(\n",
    "    data=[\n",
    "        go.Pie(\n",
    "            labels=[\"a\", \"b\"],\n",
    "            values=[0.33, 0.67],\n",
    "            hole=0.25,\n",
    "            sort=False,\n",
    "            direction=\"clockwise\",\n",
    "            pull=[0,0.1],\n",
    "            marker={\n",
    "                \"colors\": [\"rgba(0,0,0,0)\", color.BASE50],\n",
    "            },\n",
    "            textinfo=\"none\",\n",
    "            hoverinfo=\"skip\",\n",
    "        )\n",
    "    ],\n",
    "    layout=layout\n",
    ")\n",
    "\n",
    "donut.add_trace(\n",
    "    go.Pie(\n",
    "        labels=[\"c\", \"d\", \"e\"],\n",
    "        values=[0.08, 0.25, 0.67],  # [0.08, 0.25, 0.67]\n",
    "        hole=0.25,\n",
    "        sort=False,\n",
    "        rotation=90,\n",
    "        marker={\n",
    "            \"colors\": [\"rgba(42,75,141,0.925)\", color.ACCENT30, \"rgba(0,0,0,0)\"]\n",
    "        },\n",
    "        textinfo=\"none\",\n",
    "        hoverinfo=\"skip\",\n",
    "        )\n",
    ");\n",
    "\n",
    "donut.add_annotation(\n",
    "    x=0, y=0.85, xref=\"paper\", yref=\"paper\", showarrow=False, xanchor=\"left\", yanchor=\"bottom\",\n",
    "    font={\"size\": 18, \"color\": color.BASE0},\n",
    "    text=\"Durchschnittliche Aufrufe pro Monat\",\n",
    "    align=\"left\",\n",
    ")\n",
    "donut.add_annotation(\n",
    "    x=0, y=0.7, xref=\"paper\", yref=\"paper\", showarrow=False, xanchor=\"left\", yanchor=\"bottom\",\n",
    "    font={\"size\": 18, \"color\": color.ACCENT50},\n",
    "    text=f\"<span style='font-size:4em'>1 500 000</span>\",\n",
    "    align=\"left\",\n",
    ")\n",
    "donut.add_annotation(\n",
    "    x=0.75, y=0.8, xref=\"paper\", yref=\"paper\", showarrow=False, xanchor=\"left\", yanchor=\"bottom\",\n",
    "    font={\"size\": 18, \"color\": color.BASE0},\n",
    "    text=\"<span style='font-size:2em'>25</span> <span style='font-size:2em'>bis</span> <span style='color:#2A4B8D;font-size:4em'>33%</span><br>\",\n",
    "    align=\"left\",\n",
    ")\n",
    "donut.add_annotation(\n",
    "    x=0.75, y=0.75, xref=\"paper\", yref=\"paper\", showarrow=False, xanchor=\"left\", yanchor=\"bottom\",\n",
    "    font={\"size\": 18, \"color\": color.BASE0},\n",
    "    text=\"der Artikelaufrufe führen zu<br>\",\n",
    "    align=\"left\",\n",
    ")\n",
    "donut.add_annotation(\n",
    "    x=0.75, y=0.7, xref=\"paper\", yref=\"paper\", showarrow=False, xanchor=\"left\", yanchor=\"bottom\",\n",
    "    font={\"size\": 18, \"color\": color.BASE0},\n",
    "    text=\"einem Videoklick.\",\n",
    "    align=\"left\",\n",
    ");\n",
    "```"
   ]
  },
  {
   "cell_type": "markdown",
   "metadata": {},
   "source": [
    "![Diagramm Conversion Rate](assets/images/conv_pie.svg)"
   ]
  }
 ],
 "metadata": {
  "language_info": {
   "name": "python"
  },
  "orig_nbformat": 4
 },
 "nbformat": 4,
 "nbformat_minor": 2
}
