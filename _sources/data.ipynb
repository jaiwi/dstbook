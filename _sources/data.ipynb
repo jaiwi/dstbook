{
 "cells": [
  {
   "cell_type": "markdown",
   "metadata": {},
   "source": [
    "# Daten"
   ]
  },
  {
   "cell_type": "markdown",
   "metadata": {},
   "source": [
    "Sämtliche verwendeten Daten stammen von [pageviews.toolforge.org](https://pageviews.toolforge.org), einem von Wikipedianer*innen betriebenen Projekt zur Schaffung eines grafischen Zugangs zur Wikimedia API.\n",
    "\n",
    "Über die Funktion *Pageviews Analysis* lassen sich die Abrufszahlen einzelner oder mehrerer Artikel auf Tages-, Monats- oder Jahresbasis für einen frei einstellbaren Zeitraum ausgeben. Analog funktoniert *Mediaviews Analysis* für Mediendateien.\n",
    "\n",
    "Die angeforderten Daten können anschließend als CSV- oder JSON-Datei heruntergeladen werden.\n",
    "\n",
    "Für jeden Artikel wurde eine eigene Datei erstellt, da für die Ausgabe der Daten mehrerer Artikel nur jene aus demselben Wiki-Projekt (z.B. ```de.wikipedia.org```, ```en.wikipedia.org```) ausgewählt werden können.\n",
    "\n",
    "Für die einfachere Verarbeitung und Weiterverwndung wurden die Themen mit Codes versehen:\n",
    "- ```br```: Briefwahl\n",
    "- ```btw21-0810```: Bundestagswahl 2021\n",
    "- ```bu```: Bundeskanzler (Deutschland)\n",
    "- ```ca```: Çatalhöyük\n",
    "- ```ka```: Karthago"
   ]
  },
  {
   "cell_type": "markdown",
   "metadata": {},
   "source": [
    "```\n",
    "ca-pageviews-de.csv\n",
    "\n",
    "Date,\"Çatalhöyük\"\n",
    "2021-01-01,68\n",
    "2021-01-02,74\n",
    "2021-01-03,93\n",
    "2021-01-04,98\n",
    "...\n",
    "```"
   ]
  },
  {
   "cell_type": "markdown",
   "metadata": {},
   "source": [
    "```python\n",
    "ABB = \"ca\"\n",
    "MEDIA = \"ca-mediaviews.csv\"\n",
    "PAGE_LIST = [\"ca-pageviews-de.csv\", \"ca-pageviews-en.csv\", \"ca-pageviews-nl.csv\"]\n",
    "\n",
    "mvdf = pd.read_csv(f\"../raw/terrax/{MEDIA}\")\n",
    "mvdf = mvdf.rename(columns={mvdf.columns[1]: \"Media\"})\n",
    "\n",
    "pagedf_list = []\n",
    "for page in PAGE_LIST:\n",
    "    page_df = pd.read_csv(f\"../raw/terrax/{page}\")\n",
    "    pagedf_list.append(page_df)\n",
    "\n",
    "for count, itemdf in enumerate(pagedf_list):\n",
    "    itemdf = itemdf.rename(columns={itemdf.columns[1]: PAGE_LIST[count][13:15]})\n",
    "    mvdf = pd.merge(mvdf, itemdf, how=\"outer\", on=\"Date\")\n",
    "\n",
    "mvdf.to_csv(f\"../data/{ABB}.csv\", index=False)\n",
    "```"
   ]
  },
  {
   "cell_type": "markdown",
   "metadata": {},
   "source": [
    "Nach dem Zusammenfügen liegen die Daten in folgender Form vor:"
   ]
  },
  {
   "cell_type": "markdown",
   "metadata": {},
   "source": [
    "```\n",
    "ca.csv\n",
    "\n",
    "Date,Media,de,en,nl\n",
    "2021-01-01,513,68,619,14\n",
    "2021-01-02,547,74,756,13\n",
    "2021-01-03,674,93,783,32\n",
    "2021-01-04,619,98,830,18\n",
    "...\n",
    "```"
   ]
  },
  {
   "cell_type": "markdown",
   "metadata": {},
   "source": [
    "Als Grundlage für ```btw21-0810``` wurden die Aufrufszahlen der 500 meistbesuchten deutschen Wikipedia-Artikel genutzt, welche via *Topviews Analysis* abgefragt werden können."
   ]
  }
 ],
 "metadata": {
  "language_info": {
   "name": "python"
  },
  "orig_nbformat": 4
 },
 "nbformat": 4,
 "nbformat_minor": 2
}
