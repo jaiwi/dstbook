{
 "cells": [
  {
   "cell_type": "markdown",
   "metadata": {},
   "source": [
    "# Dashboard"
   ]
  },
  {
   "cell_type": "markdown",
   "metadata": {},
   "source": [
    "### Design"
   ]
  },
  {
   "cell_type": "markdown",
   "metadata": {},
   "source": [
    "Analog zu den Diagrammen bedient sich das Dashboard an den Empfehlungen des Wikimedia Style Sheets. Diese sind über ```style.css``` eingebunden. Für die Strukturierung der Inhalte wurde Dash Bootstrap verwendet, um bei unterschiedlichen Bildschirmgrößen ähnliche Propertionen zu erlangen.\n",
    "\n",
    "Das wichtigste UI-Element ist die seitliche Navigation, deren Umsetzung an ein [Tutorial](https://www.youtube.com/watch?v=ln8dyS2y4Nc) von Charming Data angelehnt ist.\n",
    "\n",
    "Das [Logo](https://de.wikipedia.org/wiki/Wikipedia:Wiki_Loves_Broadcast#/media/Datei:WikiLovesBroadcast-5.svg) ist dem [Auftritt des Wiki-Loves-Broadcast-Projektes](https://de.wikipedia.org/wiki/Wikipedia:Wiki_Loves_Broadcast) innherhalb der Wikipedia entnommen:"
   ]
  },
  {
   "cell_type": "markdown",
   "metadata": {},
   "source": [
    "![Wiki Loves Broadcast Logo](assets/WikiLovesBroadcast-5.svg)"
   ]
  },
  {
   "cell_type": "markdown",
   "metadata": {},
   "source": [
    "### ```app.py```\n",
    "\n",
    "Um ```app.py``` übersichtlicher zu gestalten, wurde der Code für die einzelnen Diagramme in separate Dateien ausgelegt. Er entspricht dabei jenem aus den auf den vorausgehenden Seiten vorgestellten Notebooks (```page.py``` enthält den Code aus ```terrax.ipynb```).\n",
    "\n",
    "```color.py``` und ```mapping.py``` sind für das Design der Diagramme benfalls im Ordner des Dashboards hinterlegt."
   ]
  },
  {
   "cell_type": "markdown",
   "metadata": {},
   "source": [
    "```python\n",
    "import dash\n",
    "import dash_bootstrap_components as dbc\n",
    "import dash_html_components as html\n",
    "import dash_core_components as dcc\n",
    "from dash.dependencies import Input, Output\n",
    "\n",
    "import convpie\n",
    "import langpie\n",
    "import ardbar\n",
    "import page\n",
    "\n",
    "\n",
    "app = dash.Dash(__name__, external_stylesheets=[dbc.themes.BOOTSTRAP, \"assets/style.css\"])\n",
    "\n",
    "navbar = html.Div(\n",
    "    className=\"nav-bar\",\n",
    "    children=[\n",
    "        html.Img(\n",
    "            className=\"logo-image\",\n",
    "            src=\"assets/WikiLovesBroadcast-5.svg\",\n",
    "            alt=\"Wiki Loves Broadcast Logo\",\n",
    "        ),\n",
    "        dbc.Nav(\n",
    "            class_name=\"dbc-nav\",\n",
    "            children=[\n",
    "                dbc.NavLink(\"Start\", href=\"/\", active=\"exact\", class_name=\"nav-link\"),\n",
    "                dbc.NavLink(\"Nutzung\", href=\"/nutzung\", active=\"exact\", class_name=\"nav-link\"),\n",
    "                dbc.NavLink(\"Sprachenvielfalt\", href=\"/sprachenvielfalt\", active=\"exact\", class_name=\"nav-link\"),\n",
    "                dbc.NavLink(\"Bundestagswahl 2021\", href=\"/bundestagswahl\", active=\"exact\", class_name=\"nav-link\"),\n",
    "                dbc.NavLink(\"Briefwahl\", href=\"/briefwahl\", active=\"exact\", class_name=\"nav-link\"),\n",
    "                dbc.NavLink(\"Bundeskanzler*in\", href=\"/bundeskanzlerin\", active=\"exact\", class_name=\"nav-link\"),\n",
    "                dbc.NavLink(\"Çatalhöyük\", href=\"/catalhoyuk\", active=\"exact\", class_name=\"nav-link\"),\n",
    "                dbc.NavLink(\"Karthago\", href=\"/karthago\", active=\"exact\", class_name=\"nav-link\"),\n",
    "                dbc.NavLink(\"ARD-Produktionen\", href=\"/ard-produktionen\", active=\"exact\", class_name=\"nav-link\"),\n",
    "            ],\n",
    "            vertical=True,\n",
    "            pills=True,\n",
    "        ),\n",
    "    ],\n",
    ")\n",
    "\n",
    "content = html.Div(\n",
    "    id=\"page-content\",\n",
    "    children=[],\n",
    "    )\n",
    "\n",
    "app.layout = html.Div(\n",
    "    className=\"layout-div\",\n",
    "    children=[\n",
    "    dcc.Location(id=\"url\"),\n",
    "    navbar,\n",
    "    content,\n",
    "    ],\n",
    ")\n",
    "\n",
    "@app.callback(\n",
    "    Output(\"page-content\", \"children\"),\n",
    "    [Input(\"url\", \"pathname\")]    \n",
    ")\n",
    "\n",
    "def render_page_content(pathname):\n",
    "    if pathname == \"/\":\n",
    "        return [\n",
    "            html.H1(\"Wiki Loves Broadcast\", className=\"start-h1\")\n",
    "        ]\n",
    "    elif pathname == \"/nutzung\":\n",
    "        return [\n",
    "            dcc.Graph(id=\"convpie\", figure=convpie.create_conv_pie())\n",
    "        ]\n",
    "    elif pathname == \"/sprachenvielfalt\":\n",
    "        return [\n",
    "            dcc.Graph(id=\"langpie\", figure=langpie.create_lang_pie())\n",
    "        ]\n",
    "    elif pathname == \"/bundestagswahl\":\n",
    "        return [\n",
    "            dcc.Graph(id=\"line\", figure=page.create_line(\"btw21-0810\"))\n",
    "        ]\n",
    "    elif pathname == \"/briefwahl\":\n",
    "        return [\n",
    "            dcc.Graph(id=\"line\", figure=page.create_line(\"br\"))\n",
    "        ]\n",
    "    elif pathname == \"/bundeskanzlerin\":\n",
    "        return [\n",
    "            dcc.Graph(id=\"line\", figure=page.create_line(\"bu\"))\n",
    "        ]\n",
    "    elif pathname == \"/catalhoyuk\":\n",
    "        return [\n",
    "            dcc.Graph(id=\"line\", figure=page.create_line(\"ca\"))\n",
    "        ]\n",
    "    elif pathname == \"/karthago\":\n",
    "        return [\n",
    "            dcc.Graph(id=\"line\", figure=page.create_line(\"ka\"))\n",
    "        ]\n",
    "    elif pathname == \"/ard-produktionen\":\n",
    "        return [\n",
    "            dcc.Graph(id=\"ardbar\", figure=ardbar.create_ard_bar())\n",
    "        ]\n",
    "    # return dbc.Jumbotron([\n",
    "    #     html.H1(\"404\")\n",
    "    # ])\n",
    "    return html.Div(\n",
    "        html.H1(\"404\")\n",
    "    )\n",
    "\n",
    "\n",
    "if __name__ == \"__main__\":\n",
    "    app.run_server(debug=True, port=8040)\n",
    "```"
   ]
  },
  {
   "cell_type": "markdown",
   "metadata": {},
   "source": [
    "![Dashboard Bundestagswahl](assets/images/dashboard_bundestagswahl.png)"
   ]
  },
  {
   "cell_type": "markdown",
   "metadata": {},
   "source": [
    "### Anmerkungen\n",
    "\n",
    "Leider ließen sich nicht alle Designentscheidungen analog zu Plotly umsetzen:\n",
    "- ```page.py```:\n",
    "  - ```go.Figure.add_vline()``` wird nicht gezeichnet\n",
    "  - ```hovermode=\"x unified\"``` wird ignoriert\n",
    "- ```langpie.py```: ```rotation``` wird nicht unterstützt"
   ]
  }
 ],
 "metadata": {
  "language_info": {
   "name": "python"
  },
  "orig_nbformat": 4
 },
 "nbformat": 4,
 "nbformat_minor": 2
}
