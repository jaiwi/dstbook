{
 "cells": [
  {
   "cell_type": "markdown",
   "metadata": {},
   "source": [
    "# Sunburst-Diagramm"
   ]
  },
  {
   "cell_type": "markdown",
   "metadata": {},
   "source": [
    "### ```lang_pie.ipynb```"
   ]
  },
  {
   "cell_type": "markdown",
   "metadata": {},
   "source": [
    "```python\n",
    "import plotly.graph_objs as go\n",
    "import color\n",
    "\n",
    "labels = [\"   \", \"  \", \" \", \"Englisch\", \"Niederländisch\", \"Esperanto\", \"Sonstige\"]\n",
    "values = [231, 111, 120, 39, 34, 23, 24]\n",
    "parents = [\"\", \"   \", \"   \", \" \", \" \", \" \", \" \"]\n",
    "text = [\" \", \" \", \" \", \"39\", \"34\", \"23\", \"24\"]\n",
    "\n",
    "layout = go.Layout(\n",
    "    plot_bgcolor=color.PLOT_BGCOLOR,\n",
    "    paper_bgcolor=color.PAPER_BGCOLOR,\n",
    "    showlegend=False,\n",
    "    width=768,\n",
    "    height=768,\n",
    ")\n",
    "\n",
    "lang = go.Figure(\n",
    "    data=[\n",
    "        go.Sunburst(\n",
    "            labels=labels,\n",
    "            parents=parents,\n",
    "            values=values,\n",
    "            branchvalues=\"total\",\n",
    "            insidetextfont={\"family\": color.PRIMARY_FONT, \"color\": color.BASE0, \"size\": 14},\n",
    "            sort=False,\n",
    "            rotation=-110,\n",
    "            marker={\n",
    "                \"colors\": [\"rgba(0,0,0,0)\", color.BASE20, color.ACCENT30, color.ACCENT50, color.ACCENT50, color.ACCENT50, color.ACCENT50],\n",
    "            },\n",
    "            text=text,\n",
    "            textfont={\"color\": \"#FF0000\", \"family\": color.SECONDARY_FONT, \"size\": 24, },\n",
    "            textinfo=None,\n",
    "            hoverinfo=\"skip\",\n",
    "        ),\n",
    "    ],\n",
    "    layout=layout\n",
    ")\n",
    "\n",
    "lang.layout.annotations = [\n",
    "    go.layout.Annotation(\n",
    "        x=0, y=1.075, xref=\"paper\", yref=\"paper\", xanchor=\"left\", yanchor=\"bottom\", showarrow=False,\n",
    "        font={\"size\": color.TITLE_FONT_SIZE, \"color\": color.PRIMARY_FONT_COLOR, \"family\": color.PRIMARY_FONT},\n",
    "        text=\"Übersetzungen in mehrere Sprachen\",\n",
    "    ),\n",
    "    go.layout.Annotation(\n",
    "        x=0, y=1.025, xref=\"paper\", yref=\"paper\", xanchor=\"left\", yanchor=\"bottom\", showarrow=False,\n",
    "        font={\"size\": color.DESCRIPTION_FONT_SIZE, \"color\": color.SECONDARY_FONT_COLOR, \"family\": color.PRIMARY_FONT},\n",
    "        text=\"Ton und/oder Untertitel\",\n",
    "    ),    \n",
    "    go.layout.Annotation(\n",
    "        x=1, y=-0.1, xref=\"paper\", yref=\"paper\", xanchor=\"right\", yanchor=\"bottom\", showarrow=False,\n",
    "        font={\"size\": color.SOURCETEXT_FONT_SIZE, \"color\": color.SECONDARY_FONT_COLOR, \"family\": color.PRIMARY_FONT},\n",
    "        text=\"<a href='https://commons.wikimedia.org/wiki/Category:Videos_by_Terra_X'>Übersicht Terra-X-Videos</a> | Stand 25.01.2022 |\",\n",
    "    ),\n",
    "    go.layout.Annotation(\n",
    "        x=0.5, y=0.5, xref=\"paper\", yref=\"paper\", xanchor=\"center\", yanchor=\"middle\", showarrow=False,\n",
    "        font={\"size\": 96, \"color\": color.PRIMARY_FONT_COLOR, \"family\": color.PRIMARY_FONT},\n",
    "        text=\"/\"\n",
    "    ),\n",
    "    go.layout.Annotation(\n",
    "    x=0.425, y=0.525, xref=\"paper\", yref=\"paper\", xanchor=\"center\", yanchor=\"middle\", showarrow=False,\n",
    "    font={\"size\": 42, \"color\": color.ACCENT50, \"family\": color.PRIMARY_FONT},\n",
    "    text=\"111\"\n",
    "    ),\n",
    "    go.layout.Annotation(\n",
    "    x=0.575, y=0.475, xref=\"paper\", yref=\"paper\", xanchor=\"center\", yanchor=\"middle\", showarrow=False,\n",
    "    font={\"size\": 36, \"color\": color.PRIMARY_FONT_COLOR, \"family\": color.PRIMARY_FONT},\n",
    "    text=\"231\"\n",
    "    ),\n",
    "]\n",
    "```"
   ]
  },
  {
   "cell_type": "markdown",
   "metadata": {},
   "source": [
    "![Diagramm Sprachenverteilung](assets/images/lang_pie.svg)"
   ]
  }
 ],
 "metadata": {
  "language_info": {
   "name": "python"
  },
  "orig_nbformat": 4
 },
 "nbformat": 4,
 "nbformat_minor": 2
}
